{
  "cells": [
    {
      "cell_type": "markdown",
      "metadata": {
        "id": "7gZRc2cNmXqs"
      },
      "source": [
        "# For Replication Purposes\n",
        "\n",
        "This notebook describes the analysis of the data from the human factor in security threat analysis (using vignettes)."
      ]
    },
    {
      "cell_type": "markdown",
      "metadata": {
        "id": "WeVP2vnDm5b0"
      },
      "source": [
        "## Initialization\n",
        "\n",
        "Mounting Google Drive and import the experiment raw data. The data was stored and accessed via google drive."
      ]
    },
    {
      "cell_type": "code",
      "execution_count": null,
      "metadata": {
        "colab": {
          "base_uri": "https://localhost:8080/"
        },
        "id": "tq657S-LjaAe",
        "outputId": "5f894d67-c2d8-48e5-f131-2bd8b939d6c8"
      },
      "outputs": [
        {
          "output_type": "stream",
          "name": "stdout",
          "text": [
            "Mounted at /content/drive\n"
          ]
        }
      ],
      "source": [
        "from google.colab import drive\n",
        "drive.mount(\"/content/drive\")"
      ]
    },
    {
      "cell_type": "code",
      "execution_count": null,
      "metadata": {
        "colab": {
          "base_uri": "https://localhost:8080/"
        },
        "id": "ZbKrHF5cmKeF",
        "outputId": "b1facad7-2687-46dd-cdbb-7fc3f6d120cb"
      },
      "outputs": [
        {
          "output_type": "stream",
          "name": "stdout",
          "text": [
            "/content/drive/My Drive/Risk Perception 2023\n"
          ]
        }
      ],
      "source": [
        "cd \"ADD DIRECTORY TO CORRECT FOLDER\""
      ]
    },
    {
      "cell_type": "markdown",
      "source": [
        "Import the excel file into a pandas dataframe."
      ],
      "metadata": {
        "id": "WAx3G7Z-HbSG"
      }
    },
    {
      "cell_type": "code",
      "execution_count": null,
      "metadata": {
        "id": "bRVyburXmKiq"
      },
      "outputs": [],
      "source": [
        "import pandas as pd\n",
        "  \n",
        "df = pd.read_excel(\"new data.xlsx\")\n",
        "df1 = pd.read_excel(\"old data.xlsx\") #data from pilot study\n",
        "\n",
        "df.head()\n",
        "df1.head()"
      ]
    },
    {
      "cell_type": "markdown",
      "source": [
        "Concatinate the data from the two data frames (new and old data)"
      ],
      "metadata": {
        "id": "ZVORG1VKHuwV"
      }
    },
    {
      "cell_type": "code",
      "execution_count": null,
      "metadata": {
        "id": "c9e07v3hn-_N"
      },
      "outputs": [],
      "source": [
        "#df3 concats the columns in the new data and old data\n",
        "\n",
        "import pandas\n",
        "df3=pandas.concat([df, df1])\n",
        "df3"
      ]
    },
    {
      "cell_type": "code",
      "source": [
        "outcomes_gender = df3[['study program','Q12','Q15_1', 'Q15_2', 'Q15_3', 'Q15_4', 'Q22', 'Q16_1', 'Q16_2', 'Q16_3', 'Q16_4', 'Q16_5', 'Q24','Introduction_DO_Q62', 'Introduction_DO_Q63', 'Introduction_DO_Q64', 'Introduction_DO_Q65', 'Introduction_DO_Q66', 'Introduction_DO_Q67', 'Introduction_DO_Q68', 'Introduction_DO_Q69']]\n",
        "outcomes_gender['Q24'].describe()"
      ],
      "metadata": {
        "id": "rLJ4aBlauP-X"
      },
      "execution_count": null,
      "outputs": []
    },
    {
      "cell_type": "code",
      "source": [
        "dict={'Strongly Disagree':1, 'Strongly disagree':1, 'Disagree':2, '1-Not effective at all':1,'2-Not effective':2,'4-Somewhat effective':4,'5-Very effective':5,'Neutral':3, 'Agree':4, 'Strongly Agree':5, 'Strongly agree':5, '1-Completely unacceptable':1,'1-Completely Unacceptable':1, '2-Unacceptable':2,'3-Neutral':3,'4-Acceptable':4,'5-Completely acceptable':5, '1-Not at all':1, '2-Not very much':2, '4-Somewhat':4, '5-Very much so':5, '2-Not much':2,'4-Quite':4, '5-A significant problem':1,'4-Quite a problem':2, '3-Somewhat of a problem':3, '2-Not much of a problem':4,'1-Not a problem at all':5, '3-I kind of understood but I could use more explanation':3,'4-I understood the most important points':4,'5-I understood everything':5}"
      ],
      "metadata": {
        "id": "Q9usNcukuSDz"
      },
      "execution_count": null,
      "outputs": []
    },
    {
      "cell_type": "code",
      "source": [
        "outcomes_gender1 = outcomes_gender.replace({\"Q12\": dict,\"Q15_1\": dict, \"Q15_2\": dict, \"Q15_3\": dict, \"Q15_4\": dict, 'Q16_1':dict, 'Q16_2':dict, 'Q16_3':dict, 'Q16_4':dict, 'Q16_5':dict, 'Q31':dict})\n",
        "outcomes_gender1.head()"
      ],
      "metadata": {
        "id": "-vBRipkCuSvh"
      },
      "execution_count": null,
      "outputs": []
    },
    {
      "cell_type": "markdown",
      "metadata": {
        "id": "xAVwv2bWyULj"
      },
      "source": [
        "# **DEMOGRAPHICS**\n",
        "Column Q22- gender\n",
        "\n",
        "\n",
        "column study program- education"
      ]
    },
    {
      "cell_type": "code",
      "execution_count": null,
      "metadata": {
        "id": "sg0zjj5qyY3E"
      },
      "outputs": [],
      "source": [
        "# GENDER\n",
        "df3['Q22'].describe()"
      ]
    },
    {
      "cell_type": "code",
      "execution_count": null,
      "metadata": {
        "id": "GSAzdi4M4a0g"
      },
      "outputs": [],
      "source": [
        "#Education\n",
        "df3['study program'].describe()\n"
      ]
    },
    {
      "cell_type": "markdown",
      "metadata": {
        "id": "cFliqQpJ34Qz"
      },
      "source": [
        "# **Nationality**- only on new data \n",
        "\n"
      ]
    },
    {
      "cell_type": "code",
      "execution_count": null,
      "metadata": {
        "colab": {
          "base_uri": "https://localhost:8080/"
        },
        "id": "0_17OMub4AKf",
        "outputId": "61dbc177-790b-40ed-c021-d387c289d2f4"
      },
      "outputs": [
        {
          "output_type": "stream",
          "name": "stdout",
          "text": [
            "Looking in indexes: https://pypi.org/simple, https://us-python.pkg.dev/colab-wheels/public/simple/\n",
            "Collecting pycountry\n",
            "  Downloading pycountry-22.3.5.tar.gz (10.1 MB)\n",
            "\u001b[2K     \u001b[90m━━━━━━━━━━━━━━━━━━━━━━━━━━━━━━━━━━━━━━━━\u001b[0m \u001b[32m10.1/10.1 MB\u001b[0m \u001b[31m43.7 MB/s\u001b[0m eta \u001b[36m0:00:00\u001b[0m\n",
            "\u001b[?25h  Installing build dependencies ... \u001b[?25l\u001b[?25hdone\n",
            "  Getting requirements to build wheel ... \u001b[?25l\u001b[?25hdone\n",
            "  Preparing metadata (pyproject.toml) ... \u001b[?25l\u001b[?25hdone\n",
            "Requirement already satisfied: setuptools in /usr/local/lib/python3.10/dist-packages (from pycountry) (67.7.2)\n",
            "Building wheels for collected packages: pycountry\n",
            "  Building wheel for pycountry (pyproject.toml) ... \u001b[?25l\u001b[?25hdone\n",
            "  Created wheel for pycountry: filename=pycountry-22.3.5-py2.py3-none-any.whl size=10681847 sha256=05f5a24c6710358f143b5fe061498c01919ec9207f636298c0f9aa8a15e17262\n",
            "  Stored in directory: /root/.cache/pip/wheels/03/57/cc/290c5252ec97a6d78d36479a3c5e5ecc76318afcb241ad9dbe\n",
            "Successfully built pycountry\n",
            "Installing collected packages: pycountry\n",
            "Successfully installed pycountry-22.3.5\n",
            "Looking in indexes: https://pypi.org/simple, https://us-python.pkg.dev/colab-wheels/public/simple/\n",
            "Collecting pycountry_convert\n",
            "  Downloading pycountry_convert-0.7.2-py3-none-any.whl (13 kB)\n",
            "Requirement already satisfied: pytest>=3.4.0 in /usr/local/lib/python3.10/dist-packages (from pycountry_convert) (7.2.2)\n",
            "Collecting pprintpp>=0.3.0\n",
            "  Downloading pprintpp-0.4.0-py2.py3-none-any.whl (16 kB)\n",
            "Requirement already satisfied: pycountry>=16.11.27.1 in /usr/local/lib/python3.10/dist-packages (from pycountry_convert) (22.3.5)\n",
            "Collecting pytest-mock>=1.6.3\n",
            "  Downloading pytest_mock-3.10.0-py3-none-any.whl (9.3 kB)\n",
            "Collecting repoze.lru>=0.7\n",
            "  Downloading repoze.lru-0.7-py3-none-any.whl (10 kB)\n",
            "Requirement already satisfied: wheel>=0.30.0 in /usr/local/lib/python3.10/dist-packages (from pycountry_convert) (0.40.0)\n",
            "Collecting pytest-cov>=2.5.1\n",
            "  Downloading pytest_cov-4.0.0-py3-none-any.whl (21 kB)\n",
            "Requirement already satisfied: setuptools in /usr/local/lib/python3.10/dist-packages (from pycountry>=16.11.27.1->pycountry_convert) (67.7.2)\n",
            "Requirement already satisfied: iniconfig in /usr/local/lib/python3.10/dist-packages (from pytest>=3.4.0->pycountry_convert) (2.0.0)\n",
            "Requirement already satisfied: packaging in /usr/local/lib/python3.10/dist-packages (from pytest>=3.4.0->pycountry_convert) (23.1)\n",
            "Requirement already satisfied: tomli>=1.0.0 in /usr/local/lib/python3.10/dist-packages (from pytest>=3.4.0->pycountry_convert) (2.0.1)\n",
            "Requirement already satisfied: attrs>=19.2.0 in /usr/local/lib/python3.10/dist-packages (from pytest>=3.4.0->pycountry_convert) (23.1.0)\n",
            "Requirement already satisfied: exceptiongroup>=1.0.0rc8 in /usr/local/lib/python3.10/dist-packages (from pytest>=3.4.0->pycountry_convert) (1.1.1)\n",
            "Requirement already satisfied: pluggy<2.0,>=0.12 in /usr/local/lib/python3.10/dist-packages (from pytest>=3.4.0->pycountry_convert) (1.0.0)\n",
            "Collecting coverage[toml]>=5.2.1\n",
            "  Downloading coverage-7.2.5-cp310-cp310-manylinux_2_5_x86_64.manylinux1_x86_64.manylinux_2_17_x86_64.manylinux2014_x86_64.whl (228 kB)\n",
            "\u001b[2K     \u001b[90m━━━━━━━━━━━━━━━━━━━━━━━━━━━━━━━━━━━━━━━\u001b[0m \u001b[32m228.2/228.2 kB\u001b[0m \u001b[31m4.7 MB/s\u001b[0m eta \u001b[36m0:00:00\u001b[0m\n",
            "\u001b[?25hInstalling collected packages: repoze.lru, pprintpp, coverage, pytest-mock, pytest-cov, pycountry_convert\n",
            "Successfully installed coverage-7.2.5 pprintpp-0.4.0 pycountry_convert-0.7.2 pytest-cov-4.0.0 pytest-mock-3.10.0 repoze.lru-0.7\n"
          ]
        }
      ],
      "source": [
        "#Convert countries into their corresponding continents\n",
        "!pip install pycountry\n",
        "!pip install pycountry_convert"
      ]
    },
    {
      "cell_type": "code",
      "execution_count": null,
      "metadata": {
        "id": "bMgUUBc24flH"
      },
      "outputs": [],
      "source": [
        "import pycountry_convert as pc  # column with country names in 2023 data only\n",
        "\n",
        "# nationality_df = df\n",
        "# nationality_df.head()"
      ]
    },
    {
      "cell_type": "code",
      "execution_count": null,
      "metadata": {
        "id": "onPh_Pe45Yaf"
      },
      "outputs": [],
      "source": [
        "#First convert to country code then to continet\n",
        "def convert(row):\n",
        "  cn_code = pc.country_name_to_country_alpha2(row.Q24, cn_name_format='default')\n",
        "  conti_code = pc.country_alpha2_to_continent_code(cn_code)\n",
        "  return conti_code"
      ]
    },
    {
      "cell_type": "code",
      "execution_count": null,
      "metadata": {
        "id": "5Kb44tRJTdTr"
      },
      "outputs": [],
      "source": [
        "df['Continent'] = df.apply(convert, axis = 1)\n",
        "df['Continent']"
      ]
    },
    {
      "cell_type": "code",
      "source": [
        "#map continent code to continet name\n",
        "conti_names = {\"AS\": \"Asia\",\n",
        "               \"SA\": \"South America\",\n",
        "               \"OC\": \"Ocenia\",\n",
        "               \"EU\": \"Europe\",\n",
        "               \"NA\": \"North America\",\n",
        "               \"AF\": \"Africa\"}\n",
        "df['Continent'] = df['Continent'].map(conti_names)\n",
        "df['Continent']"
      ],
      "metadata": {
        "id": "v_LmPVJHu9di"
      },
      "execution_count": null,
      "outputs": []
    },
    {
      "cell_type": "code",
      "execution_count": null,
      "metadata": {
        "id": "5EcvEakNiMg7"
      },
      "outputs": [],
      "source": [
        "dict={'Strongly Disagree':1, 'Strongly disagree':1, 'Disagree':2, '1-Not effective at all':1,'2-Not effective':2,'4-Somewhat effective':4,'5-Very effective':5,'Neutral':3, 'Agree':4, 'Strongly Agree':5, 'Strongly agree':5, '1-Completely unacceptable':1,'1-Completely Unacceptable':1, '2-Unacceptable':2,'3-Neutral':3,'4-Acceptable':4,'5-Completely acceptable':5, '1-Not at all':1, '2-Not very much':2, '4-Somewhat':4, '5-Very much so':5, '2-Not much':2,'4-Quite':4, '5-A significant problem':1,'4-Quite a problem':2, '3-Somewhat of a problem':3, '2-Not much of a problem':4,'1-Not a problem at all':5, '3-I kind of understood but I could use more explanation':3,'4-I understood the most important points':4,'5-I understood everything':5}"
      ]
    },
    {
      "cell_type": "code",
      "execution_count": null,
      "metadata": {
        "id": "xFk2kWGuiXc2"
      },
      "outputs": [],
      "source": [
        "df= df.replace({\"Q12\": dict,\"Q13_1\": dict,\"Q13_2\":dict, \"Q15_1\": dict, \"Q15_2\": dict, \"Q15_3\": dict, \"Q15_4\": dict, 'Q16_1':dict, 'Q16_2':dict, 'Q16_3':dict, 'Q16_4':dict, 'Q16_5':dict, 'Q31':dict})\n",
        "df['Q12']"
      ]
    },
    {
      "cell_type": "code",
      "execution_count": null,
      "metadata": {
        "id": "T4VVQxukitv2"
      },
      "outputs": [],
      "source": [
        "df.fillna(0, inplace=True)\n",
        "df.head()"
      ]
    },
    {
      "cell_type": "code",
      "execution_count": null,
      "metadata": {
        "id": "zPvD-Fb2Y6yO"
      },
      "outputs": [],
      "source": [
        "\n",
        "data_EU = df[df['Continent'].str.contains(\"EU\")==True]\n",
        "data_nonEU = df[df['Continent'].str.contains(\"EU\")==False]\n",
        "data_EU.describe()"
      ]
    },
    {
      "cell_type": "markdown",
      "metadata": {
        "id": "NlHz13CIznNW"
      },
      "source": [
        "# **Perception of outcomes (Q12, Q15_1, Q15_2, Q15_3, Q15_4) and analyst persona (Q16_1, Q16_2, Q16_3, Q16_4, Q16_5) ** based on participants gender and education background"
      ]
    },
    {
      "cell_type": "code",
      "execution_count": null,
      "metadata": {
        "id": "uApXNH6LmKpa"
      },
      "outputs": [],
      "source": [
        "data_male = outcomes_gender1[outcomes_gender1['Q22'].str.contains(\"Male\")==True]\n",
        "data_female = outcomes_gender1[outcomes_gender1['Q22'].str.contains(\"Female\")==True]\n",
        "\n",
        "data_bsc =  outcomes_gender1[outcomes_gender1['study program'].str.contains(\"BSc\")==True]\n",
        "data_msc =  outcomes_gender1[outcomes_gender1['study program'].str.contains(\"MSc\")==True]\n"
      ]
    },
    {
      "cell_type": "code",
      "execution_count": null,
      "metadata": {
        "colab": {
          "base_uri": "https://localhost:8080/"
        },
        "id": "MTdjyuewzyXI",
        "outputId": "05c01917-3541-4926-eee3-76c4717596dc"
      },
      "outputs": [
        {
          "output_type": "execute_result",
          "data": {
            "text/plain": [
              "             Q12      Q15_1      Q15_2      Q15_3      Q15_4      Q16_1  \\\n",
              "count  11.000000  11.000000  11.000000  11.000000  11.000000  11.000000   \n",
              "mean    2.727273   3.090909   3.090909   2.727273   2.727273   2.727273   \n",
              "std     1.103713   1.136182   0.831209   0.904534   0.904534   0.904534   \n",
              "min     1.000000   1.000000   2.000000   2.000000   2.000000   1.000000   \n",
              "25%     2.000000   2.000000   2.500000   2.000000   2.000000   2.000000   \n",
              "50%     3.000000   4.000000   3.000000   2.000000   2.000000   3.000000   \n",
              "75%     3.000000   4.000000   4.000000   3.500000   3.500000   3.000000   \n",
              "max     5.000000   4.000000   4.000000   4.000000   4.000000   4.000000   \n",
              "\n",
              "           Q16_2      Q16_3      Q16_4      Q16_5  \n",
              "count  11.000000  11.000000  11.000000  11.000000  \n",
              "mean    2.909091   3.272727   3.090909   3.090909  \n",
              "std     0.700649   0.786245   1.375103   0.700649  \n",
              "min     2.000000   2.000000   1.000000   2.000000  \n",
              "25%     2.500000   3.000000   2.000000   3.000000  \n",
              "50%     3.000000   3.000000   4.000000   3.000000  \n",
              "75%     3.000000   4.000000   4.000000   3.500000  \n",
              "max     4.000000   4.000000   5.000000   4.000000  "
            ],
            "text/html": [
              "\n",
              "  <div id=\"df-9620931b-dc94-4d1c-9176-9adeccb50718\">\n",
              "    <div class=\"colab-df-container\">\n",
              "      <div>\n",
              "<style scoped>\n",
              "    .dataframe tbody tr th:only-of-type {\n",
              "        vertical-align: middle;\n",
              "    }\n",
              "\n",
              "    .dataframe tbody tr th {\n",
              "        vertical-align: top;\n",
              "    }\n",
              "\n",
              "    .dataframe thead th {\n",
              "        text-align: right;\n",
              "    }\n",
              "</style>\n",
              "<table border=\"1\" class=\"dataframe\">\n",
              "  <thead>\n",
              "    <tr style=\"text-align: right;\">\n",
              "      <th></th>\n",
              "      <th>Q12</th>\n",
              "      <th>Q15_1</th>\n",
              "      <th>Q15_2</th>\n",
              "      <th>Q15_3</th>\n",
              "      <th>Q15_4</th>\n",
              "      <th>Q16_1</th>\n",
              "      <th>Q16_2</th>\n",
              "      <th>Q16_3</th>\n",
              "      <th>Q16_4</th>\n",
              "      <th>Q16_5</th>\n",
              "    </tr>\n",
              "  </thead>\n",
              "  <tbody>\n",
              "    <tr>\n",
              "      <th>count</th>\n",
              "      <td>11.000000</td>\n",
              "      <td>11.000000</td>\n",
              "      <td>11.000000</td>\n",
              "      <td>11.000000</td>\n",
              "      <td>11.000000</td>\n",
              "      <td>11.000000</td>\n",
              "      <td>11.000000</td>\n",
              "      <td>11.000000</td>\n",
              "      <td>11.000000</td>\n",
              "      <td>11.000000</td>\n",
              "    </tr>\n",
              "    <tr>\n",
              "      <th>mean</th>\n",
              "      <td>2.727273</td>\n",
              "      <td>3.090909</td>\n",
              "      <td>3.090909</td>\n",
              "      <td>2.727273</td>\n",
              "      <td>2.727273</td>\n",
              "      <td>2.727273</td>\n",
              "      <td>2.909091</td>\n",
              "      <td>3.272727</td>\n",
              "      <td>3.090909</td>\n",
              "      <td>3.090909</td>\n",
              "    </tr>\n",
              "    <tr>\n",
              "      <th>std</th>\n",
              "      <td>1.103713</td>\n",
              "      <td>1.136182</td>\n",
              "      <td>0.831209</td>\n",
              "      <td>0.904534</td>\n",
              "      <td>0.904534</td>\n",
              "      <td>0.904534</td>\n",
              "      <td>0.700649</td>\n",
              "      <td>0.786245</td>\n",
              "      <td>1.375103</td>\n",
              "      <td>0.700649</td>\n",
              "    </tr>\n",
              "    <tr>\n",
              "      <th>min</th>\n",
              "      <td>1.000000</td>\n",
              "      <td>1.000000</td>\n",
              "      <td>2.000000</td>\n",
              "      <td>2.000000</td>\n",
              "      <td>2.000000</td>\n",
              "      <td>1.000000</td>\n",
              "      <td>2.000000</td>\n",
              "      <td>2.000000</td>\n",
              "      <td>1.000000</td>\n",
              "      <td>2.000000</td>\n",
              "    </tr>\n",
              "    <tr>\n",
              "      <th>25%</th>\n",
              "      <td>2.000000</td>\n",
              "      <td>2.000000</td>\n",
              "      <td>2.500000</td>\n",
              "      <td>2.000000</td>\n",
              "      <td>2.000000</td>\n",
              "      <td>2.000000</td>\n",
              "      <td>2.500000</td>\n",
              "      <td>3.000000</td>\n",
              "      <td>2.000000</td>\n",
              "      <td>3.000000</td>\n",
              "    </tr>\n",
              "    <tr>\n",
              "      <th>50%</th>\n",
              "      <td>3.000000</td>\n",
              "      <td>4.000000</td>\n",
              "      <td>3.000000</td>\n",
              "      <td>2.000000</td>\n",
              "      <td>2.000000</td>\n",
              "      <td>3.000000</td>\n",
              "      <td>3.000000</td>\n",
              "      <td>3.000000</td>\n",
              "      <td>4.000000</td>\n",
              "      <td>3.000000</td>\n",
              "    </tr>\n",
              "    <tr>\n",
              "      <th>75%</th>\n",
              "      <td>3.000000</td>\n",
              "      <td>4.000000</td>\n",
              "      <td>4.000000</td>\n",
              "      <td>3.500000</td>\n",
              "      <td>3.500000</td>\n",
              "      <td>3.000000</td>\n",
              "      <td>3.000000</td>\n",
              "      <td>4.000000</td>\n",
              "      <td>4.000000</td>\n",
              "      <td>3.500000</td>\n",
              "    </tr>\n",
              "    <tr>\n",
              "      <th>max</th>\n",
              "      <td>5.000000</td>\n",
              "      <td>4.000000</td>\n",
              "      <td>4.000000</td>\n",
              "      <td>4.000000</td>\n",
              "      <td>4.000000</td>\n",
              "      <td>4.000000</td>\n",
              "      <td>4.000000</td>\n",
              "      <td>4.000000</td>\n",
              "      <td>5.000000</td>\n",
              "      <td>4.000000</td>\n",
              "    </tr>\n",
              "  </tbody>\n",
              "</table>\n",
              "</div>\n",
              "      <button class=\"colab-df-convert\" onclick=\"convertToInteractive('df-9620931b-dc94-4d1c-9176-9adeccb50718')\"\n",
              "              title=\"Convert this dataframe to an interactive table.\"\n",
              "              style=\"display:none;\">\n",
              "        \n",
              "  <svg xmlns=\"http://www.w3.org/2000/svg\" height=\"24px\"viewBox=\"0 0 24 24\"\n",
              "       width=\"24px\">\n",
              "    <path d=\"M0 0h24v24H0V0z\" fill=\"none\"/>\n",
              "    <path d=\"M18.56 5.44l.94 2.06.94-2.06 2.06-.94-2.06-.94-.94-2.06-.94 2.06-2.06.94zm-11 1L8.5 8.5l.94-2.06 2.06-.94-2.06-.94L8.5 2.5l-.94 2.06-2.06.94zm10 10l.94 2.06.94-2.06 2.06-.94-2.06-.94-.94-2.06-.94 2.06-2.06.94z\"/><path d=\"M17.41 7.96l-1.37-1.37c-.4-.4-.92-.59-1.43-.59-.52 0-1.04.2-1.43.59L10.3 9.45l-7.72 7.72c-.78.78-.78 2.05 0 2.83L4 21.41c.39.39.9.59 1.41.59.51 0 1.02-.2 1.41-.59l7.78-7.78 2.81-2.81c.8-.78.8-2.07 0-2.86zM5.41 20L4 18.59l7.72-7.72 1.47 1.35L5.41 20z\"/>\n",
              "  </svg>\n",
              "      </button>\n",
              "      \n",
              "  <style>\n",
              "    .colab-df-container {\n",
              "      display:flex;\n",
              "      flex-wrap:wrap;\n",
              "      gap: 12px;\n",
              "    }\n",
              "\n",
              "    .colab-df-convert {\n",
              "      background-color: #E8F0FE;\n",
              "      border: none;\n",
              "      border-radius: 50%;\n",
              "      cursor: pointer;\n",
              "      display: none;\n",
              "      fill: #1967D2;\n",
              "      height: 32px;\n",
              "      padding: 0 0 0 0;\n",
              "      width: 32px;\n",
              "    }\n",
              "\n",
              "    .colab-df-convert:hover {\n",
              "      background-color: #E2EBFA;\n",
              "      box-shadow: 0px 1px 2px rgba(60, 64, 67, 0.3), 0px 1px 3px 1px rgba(60, 64, 67, 0.15);\n",
              "      fill: #174EA6;\n",
              "    }\n",
              "\n",
              "    [theme=dark] .colab-df-convert {\n",
              "      background-color: #3B4455;\n",
              "      fill: #D2E3FC;\n",
              "    }\n",
              "\n",
              "    [theme=dark] .colab-df-convert:hover {\n",
              "      background-color: #434B5C;\n",
              "      box-shadow: 0px 1px 3px 1px rgba(0, 0, 0, 0.15);\n",
              "      filter: drop-shadow(0px 1px 2px rgba(0, 0, 0, 0.3));\n",
              "      fill: #FFFFFF;\n",
              "    }\n",
              "  </style>\n",
              "\n",
              "      <script>\n",
              "        const buttonEl =\n",
              "          document.querySelector('#df-9620931b-dc94-4d1c-9176-9adeccb50718 button.colab-df-convert');\n",
              "        buttonEl.style.display =\n",
              "          google.colab.kernel.accessAllowed ? 'block' : 'none';\n",
              "\n",
              "        async function convertToInteractive(key) {\n",
              "          const element = document.querySelector('#df-9620931b-dc94-4d1c-9176-9adeccb50718');\n",
              "          const dataTable =\n",
              "            await google.colab.kernel.invokeFunction('convertToInteractive',\n",
              "                                                     [key], {});\n",
              "          if (!dataTable) return;\n",
              "\n",
              "          const docLinkHtml = 'Like what you see? Visit the ' +\n",
              "            '<a target=\"_blank\" href=https://colab.research.google.com/notebooks/data_table.ipynb>data table notebook</a>'\n",
              "            + ' to learn more about interactive tables.';\n",
              "          element.innerHTML = '';\n",
              "          dataTable['output_type'] = 'display_data';\n",
              "          await google.colab.output.renderOutput(dataTable, element);\n",
              "          const docLink = document.createElement('div');\n",
              "          docLink.innerHTML = docLinkHtml;\n",
              "          element.appendChild(docLink);\n",
              "        }\n",
              "      </script>\n",
              "    </div>\n",
              "  </div>\n",
              "  "
            ]
          },
          "metadata": {},
          "execution_count": 53
        }
      ],
      "source": [
        "# SrM (Frank senior)\n",
        "# Male Responses\n",
        "\n",
        "\n",
        "data_male_franksenior1 = data_male[data_male['Introduction_DO_Q63']> 0]\n",
        "data_male_franksenior2 = data_male[data_male['Introduction_DO_Q67']> 0]\n",
        "data_male_franksenior = pd.concat([data_male_franksenior1, data_male_franksenior2])\n",
        "data_male_franksenior = data_male_franksenior[['Q12','Q15_1', 'Q15_2', 'Q15_3', 'Q15_4','Q16_1', 'Q16_2', 'Q16_3', 'Q16_4', 'Q16_5']]\n",
        "\n",
        "\n",
        "\"Acceptable\", \"Ethical\", \"Reliable\", \"Responsible\", \"Trustworthy\", \"Competent\", \"Skillful\", \"Knowledgeable\", \"Moral\", \"Trustworthy\"\n",
        "data_male_franksenior.describe()\n",
        "\n",
        "\n",
        "# Female Responses  \n",
        "\n",
        "data_female_franksenior1 = data_female[data_female['Introduction_DO_Q63']> 0]\n",
        "data_female_franksenior2 = data_female[data_female['Introduction_DO_Q67']> 0]\n",
        "data_female_franksenior = pd.concat([data_female_franksenior1, data_female_franksenior2])\n",
        "data_female_franksenior = data_female_franksenior[['Q12','Q15_1', 'Q15_2', 'Q15_3', 'Q15_4','Q16_1', 'Q16_2', 'Q16_3', 'Q16_4', 'Q16_5']]\n",
        "\n",
        "\"Acceptable\", \"Ethical\", \"Reliable\", \"Responsible\", \"Trustworthy\", \"Competent\", \"Skillful\", \"Knowledgeable\", \"Moral\", \"Trustworthy\"\n",
        "\n",
        "data_female_franksenior.describe()\n",
        "\n",
        "\n",
        "# BSc Responses\n",
        "\n",
        "data_bsc =  outcomes_gender1[outcomes_gender1['study program'].str.contains(\"BSc\")==True]\n",
        "data_msc =  outcomes_gender1[outcomes_gender1['study program'].str.contains(\"MSc\")==True]\n",
        "\n",
        "data_bsc_franksenior1 = data_bsc[data_bsc['Introduction_DO_Q63']> 0]\n",
        "data_bsc_franksenior2 = data_bsc[data_bsc['Introduction_DO_Q67']> 0]\n",
        "\n",
        "data_bsc_franksenior = pd.concat([data_bsc_franksenior1, data_bsc_franksenior2])\n",
        "data_bsc_franksenior = data_bsc_franksenior[['Q12','Q15_1', 'Q15_2', 'Q15_3', 'Q15_4','Q16_1', 'Q16_2', 'Q16_3', 'Q16_4', 'Q16_5']]\n",
        "\n",
        "# \"Acceptable\", \"Ethical\", \"Reliable\", \"Responsible\", \"Trustworthy\", \"Competent\", \"Skillful\", \"Knowledgeable\", \"Moral\", \"Trustworthy\"\n",
        "\n",
        "data_bsc_franksenior.describe()\n",
        "\n",
        "# MSc Responses\n",
        "\n",
        "\n",
        "data_msc_franksenior1 = data_msc[data_msc['Introduction_DO_Q63']> 0]\n",
        "data_msc_franksenior2 = data_msc[data_msc['Introduction_DO_Q67']> 0]\n",
        "\n",
        "data_msc_franksenior = pd.concat([data_msc_franksenior1, data_msc_franksenior2])\n",
        "data_msc_franksenior = data_msc_franksenior[['Q12','Q15_1', 'Q15_2', 'Q15_3', 'Q15_4','Q16_1', 'Q16_2', 'Q16_3', 'Q16_4', 'Q16_5']]\n",
        "\n",
        "\n",
        "data_msc_franksenior.describe()"
      ]
    },
    {
      "cell_type": "code",
      "execution_count": null,
      "metadata": {
        "id": "g8cbIoJ_y30O"
      },
      "outputs": [],
      "source": [
        "# SrF (Anna senior)\n",
        "# Male Responses\n",
        "\n",
        "\n",
        "data_male_annasenior1 = data_male[data_male['Introduction_DO_Q62']>0]\n",
        "data_male_annasenior2 = data_male[data_male['Introduction_DO_Q66']>0]\n",
        "\n",
        "data_male_annasenior = pd.concat([data_male_annasenior1, data_male_annasenior2])\n",
        "data_male_annasenior = data_male_annasenior[['Q12','Q15_1', 'Q15_2', 'Q15_3', 'Q15_4','Q16_1', 'Q16_2', 'Q16_3', 'Q16_4', 'Q16_5' ]]  \n",
        "\n",
        "# \"Acceptable\", \"Ethical\", \"Reliable\", \"Responsible\", \"Trustworthy\", \"Competent\", \"Skillful\", \"Knowledgeable\", \"Moral\", \"Trustworthy\"\n",
        "\n",
        "data_male_annasenior.describe()\n",
        "\n",
        "\n",
        "# Female Responses\n",
        "\n",
        "data_male = outcomes_gender1[outcomes_gender1['Q22'].str.contains(\"Male\")==True]\n",
        "data_female = outcomes_gender1[outcomes_gender1['Q22'].str.contains(\"Female\")==True]\n",
        "\n",
        "data_female_annasenior1 = data_female[data_female['Introduction_DO_Q62']> 0]\n",
        "data_female_annasenior2 = data_female[data_female['Introduction_DO_Q66']> 0]\n",
        "\n",
        "data_female_annasenior = pd.concat([data_female_annasenior1, data_female_annasenior2])\n",
        "data_female_annasenior = data_female_annasenior[['Q12','Q15_1', 'Q15_2', 'Q15_3', 'Q15_4','Q16_1', 'Q16_2', 'Q16_3', 'Q16_4', 'Q16_5']]\n",
        "\n",
        "\n",
        "data_female_annasenior.describe()\n",
        "\n",
        "\n",
        "# BSc Responses\n",
        "\n",
        "data_bsc =  outcomes_gender1[outcomes_gender1['study program'].str.contains(\"BSc\")==True]\n",
        "data_msc =  outcomes_gender1[outcomes_gender1['study program'].str.contains(\"MSc\")==True]\n",
        "\n",
        "data_bsc_annasenior1 = data_bsc[data_bsc['Introduction_DO_Q62']> 0]\n",
        "data_bsc_annasenior2 = data_bsc[data_bsc['Introduction_DO_Q66']> 0]\n",
        "\n",
        "data_bsc_annasenior = pd.concat([data_bsc_annasenior1, data_bsc_annasenior2])\n",
        "data_bsc_annasenior = data_bsc_annasenior[['Q12','Q15_1', 'Q15_2', 'Q15_3', 'Q15_4','Q16_1', 'Q16_2', 'Q16_3', 'Q16_4', 'Q16_5']]\n",
        "\n",
        "# \"Acceptable\", \"Ethical\", \"Reliable\", \"Responsible\", \"Trustworthy\", \"Competent\", \"Skillful\", \"Knowledgeable\", \"Moral\", \"Trustworthy\"\n",
        "\n",
        "data_bsc_annasenior.describe()\n",
        "\n",
        "# MSc Responses\n",
        "\n",
        "\n",
        "data_msc_annasenior1 = data_msc[data_msc['Introduction_DO_Q62']> 0]\n",
        "data_msc_annasenior2 = data_msc[data_msc['Introduction_DO_Q66']> 0]\n",
        "\n",
        "data_msc_annasenior = pd.concat([data_msc_annasenior1, data_msc_annasenior2])\n",
        "data_msc_annasenior = data_msc_annasenior[['Q12','Q15_1', 'Q15_2', 'Q15_3', 'Q15_4','Q16_1', 'Q16_2', 'Q16_3', 'Q16_4', 'Q16_5']]\n",
        "\n",
        "\n",
        "data_msc_annasenior.describe()\n"
      ]
    },
    {
      "cell_type": "code",
      "execution_count": null,
      "metadata": {
        "colab": {
          "base_uri": "https://localhost:8080/"
        },
        "id": "-aLKbgtd7hix",
        "outputId": "79a7b0ca-d851-42d5-cc3c-7ef433bc3aa5"
      },
      "outputs": [
        {
          "output_type": "execute_result",
          "data": {
            "text/plain": [
              "             Q12      Q15_1      Q15_2      Q15_3      Q15_4      Q16_1  \\\n",
              "count  11.000000  11.000000  11.000000  11.000000  11.000000  11.000000   \n",
              "mean    2.909091   2.818182   2.636364   2.909091   3.000000   3.272727   \n",
              "std     0.943880   0.750757   1.120065   0.700649   0.774597   0.646670   \n",
              "min     1.000000   2.000000   1.000000   2.000000   2.000000   2.000000   \n",
              "25%     2.500000   2.000000   2.000000   2.500000   2.500000   3.000000   \n",
              "50%     3.000000   3.000000   2.000000   3.000000   3.000000   3.000000   \n",
              "75%     3.500000   3.000000   3.000000   3.000000   3.500000   4.000000   \n",
              "max     4.000000   4.000000   5.000000   4.000000   4.000000   4.000000   \n",
              "\n",
              "           Q16_2      Q16_3      Q16_4      Q16_5  \n",
              "count  11.000000  11.000000  11.000000  11.000000  \n",
              "mean    2.909091   3.181818   3.181818   3.000000  \n",
              "std     0.700649   0.603023   0.603023   0.447214  \n",
              "min     2.000000   2.000000   2.000000   2.000000  \n",
              "25%     2.500000   3.000000   3.000000   3.000000  \n",
              "50%     3.000000   3.000000   3.000000   3.000000  \n",
              "75%     3.000000   3.500000   3.500000   3.000000  \n",
              "max     4.000000   4.000000   4.000000   4.000000  "
            ],
            "text/html": [
              "\n",
              "  <div id=\"df-db3a344f-8bdb-4471-ae7b-6015e344e7c4\">\n",
              "    <div class=\"colab-df-container\">\n",
              "      <div>\n",
              "<style scoped>\n",
              "    .dataframe tbody tr th:only-of-type {\n",
              "        vertical-align: middle;\n",
              "    }\n",
              "\n",
              "    .dataframe tbody tr th {\n",
              "        vertical-align: top;\n",
              "    }\n",
              "\n",
              "    .dataframe thead th {\n",
              "        text-align: right;\n",
              "    }\n",
              "</style>\n",
              "<table border=\"1\" class=\"dataframe\">\n",
              "  <thead>\n",
              "    <tr style=\"text-align: right;\">\n",
              "      <th></th>\n",
              "      <th>Q12</th>\n",
              "      <th>Q15_1</th>\n",
              "      <th>Q15_2</th>\n",
              "      <th>Q15_3</th>\n",
              "      <th>Q15_4</th>\n",
              "      <th>Q16_1</th>\n",
              "      <th>Q16_2</th>\n",
              "      <th>Q16_3</th>\n",
              "      <th>Q16_4</th>\n",
              "      <th>Q16_5</th>\n",
              "    </tr>\n",
              "  </thead>\n",
              "  <tbody>\n",
              "    <tr>\n",
              "      <th>count</th>\n",
              "      <td>11.000000</td>\n",
              "      <td>11.000000</td>\n",
              "      <td>11.000000</td>\n",
              "      <td>11.000000</td>\n",
              "      <td>11.000000</td>\n",
              "      <td>11.000000</td>\n",
              "      <td>11.000000</td>\n",
              "      <td>11.000000</td>\n",
              "      <td>11.000000</td>\n",
              "      <td>11.000000</td>\n",
              "    </tr>\n",
              "    <tr>\n",
              "      <th>mean</th>\n",
              "      <td>2.909091</td>\n",
              "      <td>2.818182</td>\n",
              "      <td>2.636364</td>\n",
              "      <td>2.909091</td>\n",
              "      <td>3.000000</td>\n",
              "      <td>3.272727</td>\n",
              "      <td>2.909091</td>\n",
              "      <td>3.181818</td>\n",
              "      <td>3.181818</td>\n",
              "      <td>3.000000</td>\n",
              "    </tr>\n",
              "    <tr>\n",
              "      <th>std</th>\n",
              "      <td>0.943880</td>\n",
              "      <td>0.750757</td>\n",
              "      <td>1.120065</td>\n",
              "      <td>0.700649</td>\n",
              "      <td>0.774597</td>\n",
              "      <td>0.646670</td>\n",
              "      <td>0.700649</td>\n",
              "      <td>0.603023</td>\n",
              "      <td>0.603023</td>\n",
              "      <td>0.447214</td>\n",
              "    </tr>\n",
              "    <tr>\n",
              "      <th>min</th>\n",
              "      <td>1.000000</td>\n",
              "      <td>2.000000</td>\n",
              "      <td>1.000000</td>\n",
              "      <td>2.000000</td>\n",
              "      <td>2.000000</td>\n",
              "      <td>2.000000</td>\n",
              "      <td>2.000000</td>\n",
              "      <td>2.000000</td>\n",
              "      <td>2.000000</td>\n",
              "      <td>2.000000</td>\n",
              "    </tr>\n",
              "    <tr>\n",
              "      <th>25%</th>\n",
              "      <td>2.500000</td>\n",
              "      <td>2.000000</td>\n",
              "      <td>2.000000</td>\n",
              "      <td>2.500000</td>\n",
              "      <td>2.500000</td>\n",
              "      <td>3.000000</td>\n",
              "      <td>2.500000</td>\n",
              "      <td>3.000000</td>\n",
              "      <td>3.000000</td>\n",
              "      <td>3.000000</td>\n",
              "    </tr>\n",
              "    <tr>\n",
              "      <th>50%</th>\n",
              "      <td>3.000000</td>\n",
              "      <td>3.000000</td>\n",
              "      <td>2.000000</td>\n",
              "      <td>3.000000</td>\n",
              "      <td>3.000000</td>\n",
              "      <td>3.000000</td>\n",
              "      <td>3.000000</td>\n",
              "      <td>3.000000</td>\n",
              "      <td>3.000000</td>\n",
              "      <td>3.000000</td>\n",
              "    </tr>\n",
              "    <tr>\n",
              "      <th>75%</th>\n",
              "      <td>3.500000</td>\n",
              "      <td>3.000000</td>\n",
              "      <td>3.000000</td>\n",
              "      <td>3.000000</td>\n",
              "      <td>3.500000</td>\n",
              "      <td>4.000000</td>\n",
              "      <td>3.000000</td>\n",
              "      <td>3.500000</td>\n",
              "      <td>3.500000</td>\n",
              "      <td>3.000000</td>\n",
              "    </tr>\n",
              "    <tr>\n",
              "      <th>max</th>\n",
              "      <td>4.000000</td>\n",
              "      <td>4.000000</td>\n",
              "      <td>5.000000</td>\n",
              "      <td>4.000000</td>\n",
              "      <td>4.000000</td>\n",
              "      <td>4.000000</td>\n",
              "      <td>4.000000</td>\n",
              "      <td>4.000000</td>\n",
              "      <td>4.000000</td>\n",
              "      <td>4.000000</td>\n",
              "    </tr>\n",
              "  </tbody>\n",
              "</table>\n",
              "</div>\n",
              "      <button class=\"colab-df-convert\" onclick=\"convertToInteractive('df-db3a344f-8bdb-4471-ae7b-6015e344e7c4')\"\n",
              "              title=\"Convert this dataframe to an interactive table.\"\n",
              "              style=\"display:none;\">\n",
              "        \n",
              "  <svg xmlns=\"http://www.w3.org/2000/svg\" height=\"24px\"viewBox=\"0 0 24 24\"\n",
              "       width=\"24px\">\n",
              "    <path d=\"M0 0h24v24H0V0z\" fill=\"none\"/>\n",
              "    <path d=\"M18.56 5.44l.94 2.06.94-2.06 2.06-.94-2.06-.94-.94-2.06-.94 2.06-2.06.94zm-11 1L8.5 8.5l.94-2.06 2.06-.94-2.06-.94L8.5 2.5l-.94 2.06-2.06.94zm10 10l.94 2.06.94-2.06 2.06-.94-2.06-.94-.94-2.06-.94 2.06-2.06.94z\"/><path d=\"M17.41 7.96l-1.37-1.37c-.4-.4-.92-.59-1.43-.59-.52 0-1.04.2-1.43.59L10.3 9.45l-7.72 7.72c-.78.78-.78 2.05 0 2.83L4 21.41c.39.39.9.59 1.41.59.51 0 1.02-.2 1.41-.59l7.78-7.78 2.81-2.81c.8-.78.8-2.07 0-2.86zM5.41 20L4 18.59l7.72-7.72 1.47 1.35L5.41 20z\"/>\n",
              "  </svg>\n",
              "      </button>\n",
              "      \n",
              "  <style>\n",
              "    .colab-df-container {\n",
              "      display:flex;\n",
              "      flex-wrap:wrap;\n",
              "      gap: 12px;\n",
              "    }\n",
              "\n",
              "    .colab-df-convert {\n",
              "      background-color: #E8F0FE;\n",
              "      border: none;\n",
              "      border-radius: 50%;\n",
              "      cursor: pointer;\n",
              "      display: none;\n",
              "      fill: #1967D2;\n",
              "      height: 32px;\n",
              "      padding: 0 0 0 0;\n",
              "      width: 32px;\n",
              "    }\n",
              "\n",
              "    .colab-df-convert:hover {\n",
              "      background-color: #E2EBFA;\n",
              "      box-shadow: 0px 1px 2px rgba(60, 64, 67, 0.3), 0px 1px 3px 1px rgba(60, 64, 67, 0.15);\n",
              "      fill: #174EA6;\n",
              "    }\n",
              "\n",
              "    [theme=dark] .colab-df-convert {\n",
              "      background-color: #3B4455;\n",
              "      fill: #D2E3FC;\n",
              "    }\n",
              "\n",
              "    [theme=dark] .colab-df-convert:hover {\n",
              "      background-color: #434B5C;\n",
              "      box-shadow: 0px 1px 3px 1px rgba(0, 0, 0, 0.15);\n",
              "      filter: drop-shadow(0px 1px 2px rgba(0, 0, 0, 0.3));\n",
              "      fill: #FFFFFF;\n",
              "    }\n",
              "  </style>\n",
              "\n",
              "      <script>\n",
              "        const buttonEl =\n",
              "          document.querySelector('#df-db3a344f-8bdb-4471-ae7b-6015e344e7c4 button.colab-df-convert');\n",
              "        buttonEl.style.display =\n",
              "          google.colab.kernel.accessAllowed ? 'block' : 'none';\n",
              "\n",
              "        async function convertToInteractive(key) {\n",
              "          const element = document.querySelector('#df-db3a344f-8bdb-4471-ae7b-6015e344e7c4');\n",
              "          const dataTable =\n",
              "            await google.colab.kernel.invokeFunction('convertToInteractive',\n",
              "                                                     [key], {});\n",
              "          if (!dataTable) return;\n",
              "\n",
              "          const docLinkHtml = 'Like what you see? Visit the ' +\n",
              "            '<a target=\"_blank\" href=https://colab.research.google.com/notebooks/data_table.ipynb>data table notebook</a>'\n",
              "            + ' to learn more about interactive tables.';\n",
              "          element.innerHTML = '';\n",
              "          dataTable['output_type'] = 'display_data';\n",
              "          await google.colab.output.renderOutput(dataTable, element);\n",
              "          const docLink = document.createElement('div');\n",
              "          docLink.innerHTML = docLinkHtml;\n",
              "          element.appendChild(docLink);\n",
              "        }\n",
              "      </script>\n",
              "    </div>\n",
              "  </div>\n",
              "  "
            ]
          },
          "metadata": {},
          "execution_count": 57
        }
      ],
      "source": [
        "# JrM (Frank junior)\n",
        "#Male Responses\n",
        "\n",
        "\n",
        "data_male_frankjunior1 = data_male[data_male['Introduction_DO_Q65']> 0]\n",
        "data_male_frankjunior2 = data_male[data_male['Introduction_DO_Q69']> 0]\n",
        "data_male_frankjunior = pd.concat([data_male_frankjunior1, data_male_frankjunior2])\n",
        "data_male_frankjunior = data_male_frankjunior[['Q12','Q15_1', 'Q15_2', 'Q15_3', 'Q15_4','Q16_1', 'Q16_2', 'Q16_3', 'Q16_4', 'Q16_5']]\n",
        "\n",
        "data_male_frankjunior.describe()\n",
        "\n",
        "\n",
        "#Female Responses\n",
        "\n",
        "data_female_frankjunior1 = data_female[data_female['Introduction_DO_Q65']> 0]\n",
        "data_female_frankjunior2 = data_female[data_female['Introduction_DO_Q69']> 0]\n",
        "data_female_frankjunior = pd.concat([data_female_frankjunior1, data_female_frankjunior2])\n",
        "data_female_frankjunior = data_female_frankjunior[['Q12','Q15_1', 'Q15_2', 'Q15_3', 'Q15_4','Q16_1', 'Q16_2', 'Q16_3', 'Q16_4', 'Q16_5']]\n",
        "\n",
        "data_female_frankjunior.describe()\n",
        "\n",
        "#Bsc Responses\n",
        "\n",
        "data_bsc_frankjunior1 = data_bsc[data_bsc['Introduction_DO_Q65']> 0]\n",
        "data_bsc_frankjunior2 = data_bsc[data_bsc['Introduction_DO_Q69']> 0]\n",
        "data_bsc_frankjunior = pd.concat([data_bsc_frankjunior1, data_bsc_frankjunior2])\n",
        "data_bsc_frankjunior = data_bsc_frankjunior[['Q12','Q15_1', 'Q15_2', 'Q15_3', 'Q15_4','Q16_1', 'Q16_2', 'Q16_3', 'Q16_4', 'Q16_5']]\n",
        "\n",
        "data_bsc_frankjunior.describe()\n",
        "\n",
        "\n",
        "#Msc Responses\n",
        "\n",
        "data_msc_frankjunior1 = data_msc[data_msc['Introduction_DO_Q65']> 0]\n",
        "data_msc_frankjunior2 = data_msc[data_msc['Introduction_DO_Q69']> 0]\n",
        "data_msc_frankjunior = pd.concat([data_msc_frankjunior1, data_msc_frankjunior2])\n",
        "data_msc_frankjunior = data_msc_frankjunior[['Q12','Q15_1', 'Q15_2', 'Q15_3', 'Q15_4','Q16_1', 'Q16_2', 'Q16_3', 'Q16_4', 'Q16_5']]\n",
        "\n",
        "data_msc_frankjunior.describe()"
      ]
    },
    {
      "cell_type": "code",
      "execution_count": null,
      "metadata": {
        "id": "bQUejMsMz1Xg"
      },
      "outputs": [],
      "source": [
        "# JrF (Anna Junior)\n",
        "#Male responses\n",
        "\n",
        "data_male_annajunior1 = data_male[data_male['Introduction_DO_Q64']> 0]\n",
        "data_male_annajunior2 = data_male[data_male['Introduction_DO_Q68']> 0]\n",
        "data_male_annajunior = pd.concat([data_male_annajunior1, data_male_annajunior2])\n",
        "data_male_annajunior = data_male_annajunior[['Q12','Q15_1', 'Q15_2', 'Q15_3', 'Q15_4','Q16_1', 'Q16_2', 'Q16_3', 'Q16_4', 'Q16_5']]\n",
        "\n",
        "data_male_annajunior.describe()\n",
        "\n",
        "\n",
        "# Female Responses\n",
        "\n",
        "data_female_annajunior1 = data_female[data_female['Introduction_DO_Q64']> 0]\n",
        "data_female_annajunior2 = data_female[data_female['Introduction_DO_Q68']> 0]\n",
        "data_female_annajunior = pd.concat([data_female_annajunior1, data_female_annajunior2])\n",
        "data_female_annajunior = data_female_annajunior[['Q12','Q15_1', 'Q15_2', 'Q15_3', 'Q15_4','Q16_1', 'Q16_2', 'Q16_3', 'Q16_4', 'Q16_5']]\n",
        "\n",
        "data_female_annajunior.describe()\n",
        "\n",
        "#Bsc responses\n",
        "\n",
        "data_bsc_annajunior1 = data_bsc[data_bsc['Introduction_DO_Q64']> 0]\n",
        "data_bsc_annajunior2 = data_bsc[data_bsc['Introduction_DO_Q68']> 0]\n",
        "data_bsc_annajunior = pd.concat([data_bsc_annajunior1, data_bsc_annajunior2])\n",
        "data_bsc_annajunior = data_bsc_annajunior[['Q12','Q15_1', 'Q15_2', 'Q15_3', 'Q15_4','Q16_1', 'Q16_2', 'Q16_3', 'Q16_4', 'Q16_5']]\n",
        "\n",
        "data_bsc_annajunior.describe()\n",
        "\n",
        "\n",
        "# MSC Responses\n",
        "\n",
        "data_msc_annajunior1 = data_msc[data_msc['Introduction_DO_Q64']> 0]\n",
        "data_msc_annajunior2 = data_msc[data_msc['Introduction_DO_Q68']> 0]\n",
        "data_msc_annajunior = pd.concat([data_msc_annajunior1, data_msc_annajunior2])\n",
        "data_msc_annajunior = data_msc_annajunior[['Q12','Q15_1', 'Q15_2', 'Q15_3', 'Q15_4','Q16_1', 'Q16_2', 'Q16_3', 'Q16_4', 'Q16_5']]\n",
        "\n",
        "data_msc_annajunior.describe()"
      ]
    },
    {
      "cell_type": "markdown",
      "metadata": {
        "id": "R5WGE1wO21Se"
      },
      "source": [
        "# Aggregated scales to measure analyst persona, security outcomes"
      ]
    },
    {
      "cell_type": "code",
      "execution_count": null,
      "metadata": {
        "id": "KmBJKDLjYto4"
      },
      "outputs": [],
      "source": [
        "# scale for analyst persona (Q16_1- competent, Q16_2- skillful, Q16_3- Knowledgeable, Q16_5- trustworthy )\n",
        "scale['skills']= (new_outcomes['Q16_1'] +new_outcomes['Q16_2'] + new_outcomes['Q16_3'] + new_outcomes['Q16_5'])/4\n",
        "scale['skills'].mean()\n"
      ]
    },
    {
      "cell_type": "code",
      "execution_count": null,
      "metadata": {
        "id": "2uzjSE8rYtkJ"
      },
      "outputs": [],
      "source": [
        "# scale for security outcomes (Q12- overall acceptability, Q15_1- ethical, Q15_3- Responsible, Q15_4- Trustworthy, Q16_4- Moral)\n",
        "scale = pd.DataFrame()\n",
        "scale['ethical']= (new_outcomes['Q12'] +new_outcomes['Q15_1'] + new_outcomes['Q15_4'] + new_outcomes['Q15_3'] + new_outcomes['Q16_4'])/5\n",
        "scale['ethical'].mean()\n"
      ]
    },
    {
      "cell_type": "code",
      "execution_count": null,
      "metadata": {
        "id": "qqKw_xCjpUoT"
      },
      "outputs": [],
      "source": [
        "# Scale used to measure the perception of Maxxupload\n",
        "cale['maxx']= new_outcomes['Q31']\n",
        "scale['maxx'].mean()"
      ]
    },
    {
      "cell_type": "code",
      "execution_count": null,
      "metadata": {
        "id": "a6ueiIS4YtxR"
      },
      "outputs": [],
      "source": [
        "!pip install pingouin\n",
        "import pingouin as pg"
      ]
    },
    {
      "cell_type": "code",
      "execution_count": null,
      "metadata": {
        "id": "pgYHUnD1hlkT"
      },
      "outputs": [],
      "source": [
        "pg.cronbach_alpha(skills)"
      ]
    },
    {
      "cell_type": "code",
      "execution_count": null,
      "metadata": {
        "id": "3_UrN_V_gfsk"
      },
      "outputs": [],
      "source": [
        "pg.cronbach_alpha(ethical) "
      ]
    },
    {
      "cell_type": "code",
      "execution_count": null,
      "metadata": {
        "id": "mnntAoqd48a2"
      },
      "outputs": [],
      "source": [
        "#Group mitigation into traffic blocking and malware\n",
        "def mitigation (row):\n",
        "   if row['Introduction_DO_Q66'] > 0 :\n",
        "      return 'Blocking'\n",
        "   if row['Introduction_DO_Q68'] > 0 :\n",
        "      return 'Blocking'\n",
        "   if row['Introduction_DO_Q67'] > 0 :\n",
        "      return 'Blocking'\n",
        "   if row['Introduction_DO_Q69'] > 0 :\n",
        "      return 'Blocking'\n",
        "   if row['Introduction_DO_Q62'] > 0 :\n",
        "      return 'Malware'\n",
        "   if row['Introduction_DO_Q64'] > 0 :\n",
        "      return 'Malware'\n",
        "   if row['Introduction_DO_Q63'] > 0 :\n",
        "      return 'Malware'\n",
        "   if row['Introduction_DO_Q65'] > 0 :\n",
        "      return 'Malware'\n",
        "   return 'Other'\n",
        "\n",
        "\n",
        "outcomes_gender1['mitigation'] = outcomes_gender1.apply (mitigation, axis=1)\n",
        "outcomes_gender1['mitigation'].describe()"
      ]
    },
    {
      "cell_type": "code",
      "execution_count": null,
      "metadata": {
        "id": "se3T4_rT2-ei"
      },
      "outputs": [],
      "source": [
        "#Concatinate all responses for traffic blocking and malware\n",
        "block_annasenior = outcomes_gender1[outcomes_gender1['Introduction_DO_Q66']> 0]\n",
        "block_annajunior = outcomes_gender1[outcomes_gender1['Introduction_DO_Q68']> 0]\n",
        "block_franksenior = outcomes_gender1[outcomes_gender1['Introduction_DO_Q67']> 0]\n",
        "block_frankjunior =outcomes_gender1[outcomes_gender1['Introduction_DO_Q69']> 0]\n",
        "\n",
        "blocking = pd.concat([block_annasenior, block_annajunior, block_franksenior, block_frankjunior])\n",
        "\n",
        "\n",
        "malware_annasenior = outcomes_gender1[outcomes_gender1['Introduction_DO_Q62']> 0]\n",
        "malware_annajunior = outcomes_gender1[outcomes_gender1['Introduction_DO_Q64']> 0]\n",
        "malware_franksenior = outcomes_gender1[outcomes_gender1['Introduction_DO_Q63']> 0]\n",
        "malware_frankjunior =outcomes_gender1[outcomes_gender1['Introduction_DO_Q65']> 0]\n",
        "\n",
        "malware = pd.concat([malware_annasenior, malware_annajunior, malware_franksenior, malware_frankjunior])\n",
        "malware.describe()"
      ]
    },
    {
      "cell_type": "code",
      "execution_count": null,
      "metadata": {
        "id": "L9un49vQm42m"
      },
      "outputs": [],
      "source": [
        "scale['gender']= outcomes_gender1['Q22']\n",
        "scale_male = scale[scale['gender'].str.contains(\"Male\")==True]\n",
        "scale_female = scale[scale['gender'].str.contains(\"Female\")==True]\n",
        "scale['background']= outcomes_gender1['study program']\n",
        "scale_Bsc = scale[scale['background'].str.contains(\"BSc\")==True]\n",
        "scale_Msc = scale[scale['background'].str.contains(\"MSc\")==True]\n",
        "scale['nationality']= df['Continent']\n",
        "scale_EU = scale[scale['nationality'].str.contains(\"EU\")==True]\n",
        "scale_nonEU = scale[scale['nationality'].str.contains(\"nonEU\")==True]\n",
        "scale['mitigation']= outcomes_gender1['mitigation']\n",
        "scale_blocking = scale[scale['mitigation'].str.contains(\"Blocking\")==True]\n",
        "scale_malware = scale[scale['mitigation'].str.contains(\"Malware\")==True]\n"
      ]
    },
    {
      "cell_type": "code",
      "execution_count": null,
      "metadata": {
        "id": "H2zO_eL_oXcH"
      },
      "outputs": [],
      "source": [
        "print(scale_female['skills'].mean())\n",
        "print(scale_female['skills'].std())\n",
        "print(scale_male['skills'].mean())\n",
        "print(scale_male['skills'].std())\n",
        "print(scale_female['ethical'].mean())\n",
        "print(scale_female['ethical'].std())\n",
        "print(scale_male['ethical'].mean())\n",
        "print(scale_male['ethical'].std())\n",
        "print(scale_female['works'].mean())\n",
        "print(scale_male['works'].mean())\n",
        "print(scale_female['maxx'].mean())\n",
        "print(scale_female['maxx'].std())\n",
        "print(scale_male['maxx'].mean())\n",
        "print(scale_male['maxx'].std())"
      ]
    },
    {
      "cell_type": "code",
      "execution_count": null,
      "metadata": {
        "id": "lzgHRbFgffEG"
      },
      "outputs": [],
      "source": [
        "print(scale_Bsc['skills'].mean())\n",
        "print(scale_Bsc['skills'].std())\n",
        "print(scale_Msc['skills'].mean())\n",
        "print(scale_Msc['skills'].std())\n",
        "print(scale_Bsc['ethical'].mean())\n",
        "print(scale_Bsc['ethical'].std())\n",
        "print(scale_Msc['ethical'].mean())\n",
        "print(scale_Msc['ethical'].std())\n",
        "print(scale_Bsc['works'].mean())\n",
        "print(scale_Msc['works'].mean())\n",
        "print(scale_Bsc['maxx'].mean())\n",
        "print(scale_Bsc['maxx'].std())\n",
        "print(scale_Msc['maxx'].mean())\n",
        "print(scale_Msc['maxx'].std())"
      ]
    },
    {
      "cell_type": "code",
      "execution_count": null,
      "metadata": {
        "id": "5Sfu0GcBx4lU"
      },
      "outputs": [],
      "source": [
        "print(scale_EU['skills'].mean())\n",
        "print(scale_EU['skills'].std())\n",
        "print(scale_nonEU['skills'].mean())\n",
        "print(scale_nonEU['skills'].std())\n",
        "print(scale_EU['ethical'].mean())\n",
        "print(scale_EU['ethical'].std())\n",
        "print(scale_nonEU['ethical'].mean())\n",
        "print(scale_nonEU['ethical'].std())\n",
        "print(scale_EU['works'].mean())\n",
        "print(scale_nonEU['works'].mean())\n",
        "print(scale_EU['maxx'].mean())\n",
        "print(scale_EU['maxx'].std())\n",
        "print(scale_nonEU['maxx'].mean())\n",
        "print(scale_nonEU['maxx'].std())"
      ]
    },
    {
      "cell_type": "code",
      "execution_count": null,
      "metadata": {
        "id": "aw6jZ49gMDHE"
      },
      "outputs": [],
      "source": [
        "print(scale_blocking['skills'].mean())\n",
        "print(scale_blocking['skills'].std())\n",
        "print(scale_malware['skills'].mean())\n",
        "print(scale_malware['skills'].std())\n",
        "print(scale_blocking['ethical'].mean())\n",
        "print(scale_blocking['ethical'].std())\n",
        "print(scale_malware['ethical'].mean())\n",
        "print(scale_malware['ethical'].std())\n",
        "print(scale_blocking['works'].mean())\n",
        "print(scale_malware['works'].mean())\n",
        "print(scale_blocking['maxx'].mean())\n",
        "print(scale_blocking['maxx'].std())\n",
        "print(scale_malware['maxx'].mean())\n",
        "print(scale_malware['maxx'].std())"
      ]
    },
    {
      "cell_type": "markdown",
      "source": [
        "# Test of difference using the aggregated scale"
      ],
      "metadata": {
        "id": "hFg0Gzz5Uw-o"
      }
    },
    {
      "cell_type": "code",
      "source": [
        "#test of difference on the perception of analyst persona\n",
        "skills_scale_gender= scipy.stats.mannwhitneyu(scale_female['skills'] , scale_male['skills']  , alternative= \"two-sided\") \n",
        "skills_scale_background= scipy.stats.mannwhitneyu(scale_Bsc['skills'] , scale_Msc['skills']  , alternative= \"two-sided\") \n",
        "skills_scale_background"
      ],
      "metadata": {
        "id": "BnfvsmN94tMv"
      },
      "execution_count": null,
      "outputs": []
    },
    {
      "cell_type": "code",
      "execution_count": null,
      "metadata": {
        "id": "rjgPP1VBmbiy"
      },
      "outputs": [],
      "source": [
        "#test of difference on the perception of security outcomes\n",
        "ethical_scale_gender= scipy.stats.mannwhitneyu(scale_female['ethical'] , scale_male['ethical']  , alternative= \"two-sided\") \n",
        "ethical_scale_background= scipy.stats.mannwhitneyu(scale_Bsc['ethical'] , scale_Msc['ethical']  , alternative= \"two-sided\") \n",
        "ethical_scale_background"
      ]
    },
    {
      "cell_type": "code",
      "source": [
        "#test of difference on the perception of Maxxupload\n",
        "maxx_scale_gender= scipy.stats.mannwhitneyu(scale_female['maxx'] , scale_male['maxx']  , alternative= \"two-sided\") \n",
        "maxx_scale_background= scipy.stats.mannwhitneyu(scale_Bsc['maxx'] , scale_Msc['maxx']  , alternative= \"two-sided\") \n",
        "maxx_scale_gender"
      ],
      "metadata": {
        "id": "ZpAlZFut5OLs"
      },
      "execution_count": null,
      "outputs": []
    },
    {
      "cell_type": "code",
      "source": [
        "#test of difference on the perception of security outcomes, analyst persona, and Maxxupload based on the mitigation received\n",
        "ethical_scale_mitigation= scipy.stats.mannwhitneyu(scale_blocking ['ethical'] , scale_malware['ethical']  , alternative= \"two-sided\") \n",
        "skills_scale_mitigation= scipy.stats.mannwhitneyu(scale_blocking ['skills'] , scale_malware['skills']  , alternative= \"two-sided\") \n",
        "maxx_scale_mitigation= scipy.stats.mannwhitneyu(scale_blocking ['maxx'] , scale_malware['maxx']  , alternative= \"two-sided\") \n",
        "print(ethical_scale_mitigation)\n",
        "print(skills_scale_mitigation)\n",
        "print(maxx_scale_mitigation)\n",
        "print(scale_blocking ['ethical'].mean())\n",
        "print(scale_malware['ethical'].mean())"
      ],
      "metadata": {
        "id": "WthV9A8W-xnF"
      },
      "execution_count": null,
      "outputs": []
    },
    {
      "cell_type": "markdown",
      "source": [
        "# **TOST on scale data**"
      ],
      "metadata": {
        "id": "DQZyymjWW1MQ"
      }
    },
    {
      "cell_type": "code",
      "source": [
        "#TOST of security outcomes based on scale['ethical']\n",
        "\n",
        "\n",
        "\n",
        "#TOST FOR gender\n",
        "p_low_gender_ethics = mannwhitneyu([x - delta for x in scale_female['ethical']], scale_male['ethical'], alternative = \"less\")\n",
        "p_up_gender_ethics= mannwhitneyu(scale_male['ethical'], [x + delta for x in scale_female['ethical']],  alternative = \"less\")\n",
        "p_TOST_gender_ethics = max(p_low_gender_ethics.pvalue, p_up_gender_ethics.pvalue)\n",
        "\n",
        "print(p_low_gender_ethics)\n",
        "print(p_up_gender_ethics)\n",
        "print(p_TOST_gender_ethics)\n",
        "\n",
        "#TOST FOR background\n",
        "p_low_background_ethics = mannwhitneyu([x - delta for x in scale_Bsc['ethical']], scale_Msc['ethical'], alternative = \"less\")\n",
        "p_up_background_ethics= mannwhitneyu(scale_Msc['ethical'], [x + delta for x in scale_Bsc['ethical']],  alternative = \"less\")\n",
        "p_TOST_background_ethics = max(p_low_background_ethics.pvalue, p_up_background_ethics.pvalue)\n",
        "\n",
        "print(p_low_background_ethics)\n",
        "print(p_up_background_ethics)\n",
        "print(p_TOST_background_ethics)\n",
        "\n",
        " #TOST FOR mitigation\n",
        "p_low_mitigation_ethics = mannwhitneyu([x - delta for x in scale_blocking['ethical']], scale_malware['ethical'], alternative = \"less\")\n",
        "p_up_mitigation_ethics= mannwhitneyu(scale_malware['ethical'], [x + delta for x in scale_blocking['ethical']],  alternative = \"less\")\n",
        "p_TOST_mitigation_ethics = max(p_low_mitigation_ethics.pvalue, p_up_mitigation_ethics.pvalue)\n",
        "\n",
        "print(p_low_mitigation_ethics)\n",
        "print(p_up_mitigation_ethics)\n",
        "print(p_TOST_mitigation_ethics)"
      ],
      "metadata": {
        "id": "4EaFA-9jWnZI"
      },
      "execution_count": null,
      "outputs": []
    },
    {
      "cell_type": "code",
      "source": [
        "#TOST of analyst based on scale['skills']\n",
        "\n",
        "\n",
        "\n",
        "#TOST FOR gender\n",
        "from scipy.stats import mannwhitneyu\n",
        "delta = 0.8\n",
        "p_low_gender_skills= mannwhitneyu([x - delta for x in scale_female['skills']], scale_male['skills'], alternative = \"less\")\n",
        "p_up_gender_skills= mannwhitneyu(scale_male['skills'], [x + delta for x in scale_female['skills']],  alternative = \"less\")\n",
        "p_TOST_gender_skills = max(p_low_gender_skills.pvalue, p_up_gender_skills.pvalue)\n",
        "\n",
        "print(p_low_gender_skills)\n",
        "print(p_up_gender_skills)\n",
        "print(p_TOST_gender_skills)\n",
        "\n",
        "\n",
        "#TOST FOR background\n",
        "p_low_background_skills = mannwhitneyu([x - delta for x in scale_Bsc['skills']], scale_Msc['skills'], alternative = \"less\")\n",
        "p_up_background_skills= mannwhitneyu(scale_Msc['skills'], [x + delta for x in scale_Bsc['skills']],  alternative = \"less\")\n",
        "p_TOST_background_skills= max(p_low_background_skills.pvalue, p_up_background_skills.pvalue)\n",
        "\n",
        "print(p_low_background_skills)\n",
        "print(p_up_background_skills)\n",
        "print(p_TOST_background_skills)\n",
        "\n",
        "#TOST FOR mitigation\n",
        "p_low_mitigation_skills = mannwhitneyu([x - delta for x in scale_blocking['skills']], scale_malware['skills'], alternative = \"less\")\n",
        "p_up_mitigation_skills= mannwhitneyu(scale_malware['skills'], [x + delta for x in scale_blocking['skills']],  alternative = \"less\")\n",
        "p_TOST_mitigation_skills = max(p_low_mitigation_skills.pvalue, p_up_mitigation_skills.pvalue)\n",
        "\n",
        "print(p_low_mitigation_skills)\n",
        "print(p_up_mitigation_skills)\n",
        "print(p_TOST_mitigation_skills)\n"
      ],
      "metadata": {
        "id": "YnVr9893dU6j"
      },
      "execution_count": null,
      "outputs": []
    },
    {
      "cell_type": "code",
      "source": [
        "#TOST of Maxxupload based on scale['maxx']\n",
        "\n",
        "\n",
        "\n",
        "#TOST FOR gender\n",
        "from scipy.stats import mannwhitneyu\n",
        "delta = 0.8\n",
        "p_low_gender_maxx= mannwhitneyu([x - delta for x in scale_female['maxx']], scale_male['maxx'], alternative = \"less\")\n",
        "p_up_gender_maxx= mannwhitneyu(scale_male['maxx'], [x + delta for x in scale_female['maxx']],  alternative = \"less\")\n",
        "p_TOST_gender_maxx = max(p_low_gender_maxx.pvalue, p_up_gender_maxx.pvalue)\n",
        "\n",
        "print(p_low_gender_maxx)\n",
        "print(p_up_gender_maxx)\n",
        "print(p_TOST_gender_maxx)\n",
        "\n",
        "\n",
        "#TOST FOR background\n",
        "p_low_background_maxx = mannwhitneyu([x - delta for x in scale_Bsc['maxx']], scale_Msc['maxx'], alternative = \"less\")\n",
        "p_up_background_maxx= mannwhitneyu(scale_Msc['maxx'], [x + delta for x in scale_Bsc['maxx']],  alternative = \"less\")\n",
        "p_TOST_background_maxx= max(p_low_background_maxx.pvalue, p_up_background_maxx.pvalue)\n",
        "\n",
        "print(p_low_background_maxx)\n",
        "print(p_up_background_maxx)\n",
        "print(p_TOST_background_maxx)\n",
        "\n",
        "#TOST FOR mitigation\n",
        "p_low_mitigation_maxx = mannwhitneyu([x - delta for x in scale_blocking['maxx']], scale_malware['maxx'], alternative = \"less\")\n",
        "p_up_mitigation_maxx= mannwhitneyu(scale_malware['maxx'], [x + delta for x in scale_blocking['maxx']],  alternative = \"less\")\n",
        "p_TOST_mitigation_maxx = max(p_low_mitigation_maxx.pvalue, p_up_mitigation_maxx.pvalue)\n",
        "\n",
        "print(p_low_mitigation_maxx)\n",
        "print(p_up_mitigation_maxx)\n",
        "print(p_TOST_mitigation_maxx)"
      ],
      "metadata": {
        "id": "xb9ZlACBWncH"
      },
      "execution_count": null,
      "outputs": []
    },
    {
      "cell_type": "code",
      "execution_count": null,
      "metadata": {
        "id": "nj5nMACz5ys1"
      },
      "outputs": [],
      "source": [
        "scipy.stats.pearsonr(scale['maxx'], scale['ethical'])"
      ]
    },
    {
      "cell_type": "markdown",
      "source": [
        "# **New scale for nationality**"
      ],
      "metadata": {
        "id": "qQWhGCNNEx-0"
      }
    },
    {
      "cell_type": "code",
      "source": [
        "newscale = pd.DataFrame()\n",
        "newscale['ethical']= (df['Q12'] +df['Q15_1'] + df['Q15_4'] + df['Q15_3'] + df['Q16_4'])/5\n",
        "newscale['ethical'].describe()"
      ],
      "metadata": {
        "id": "GwNpgworE1pA"
      },
      "execution_count": null,
      "outputs": []
    },
    {
      "cell_type": "code",
      "source": [
        "newscale['skills']= (df['Q16_1'] + df['Q16_2'] + df['Q16_3'] + df['Q16_5'])/4\n",
        "newscale['skills'].describe()"
      ],
      "metadata": {
        "id": "4Fy5IEarE1sD"
      },
      "execution_count": null,
      "outputs": []
    },
    {
      "cell_type": "code",
      "source": [
        "newscale['maxx']= df['Q31']\n",
        "newscale['maxx'].describe()"
      ],
      "metadata": {
        "id": "OPUAQw7WE1t-"
      },
      "execution_count": null,
      "outputs": []
    },
    {
      "cell_type": "code",
      "source": [
        "newscale['nationality']= df['Continent']\n",
        "newscale_EU = newscale[newscale['nationality'].str.contains(\"EU\")==True]\n",
        "newscale_nonEU = newscale[newscale['nationality'].str.contains(\"EU\")==False]\n",
        "newscale_EU.describe()"
      ],
      "metadata": {
        "id": "DTrGE737Fq5l"
      },
      "execution_count": null,
      "outputs": []
    },
    {
      "cell_type": "code",
      "source": [
        "print(newscale_EU['ethical'].mean())\n",
        "print(newscale_EU['ethical'].std())\n",
        "print(newscale_nonEU['ethical'].mean())\n",
        "print(newscale_EU['ethical'].std())\n",
        "\n",
        "print(newscale_EU['skills'].mean())\n",
        "print(newscale_EU['skills'].std())\n",
        "print(newscale_nonEU['skills'].mean())\n",
        "print(newscale_EU['skills'].std())\n",
        "\n",
        "print(newscale_EU['maxx'].mean())\n",
        "print(newscale_EU['maxx'].std())\n",
        "print(newscale_nonEU['maxx'].mean())\n",
        "print(newscale_EU['maxx'].std())\n"
      ],
      "metadata": {
        "id": "UsuQpha_R2hm"
      },
      "execution_count": null,
      "outputs": []
    },
    {
      "cell_type": "code",
      "source": [
        "#Test for difference\n",
        "\n",
        "newscale_ethics_nationality= scipy.stats.mannwhitneyu(newscale_EU['ethical'] , newscale_nonEU['ethical']  , alternative= \"two-sided\") \n",
        "newscale_skills_nationality= scipy.stats.mannwhitneyu(newscale_EU['skills'] , newscale_nonEU['skills']  , alternative= \"two-sided\") \n",
        "newscale_maxx_nationality= scipy.stats.mannwhitneyu(newscale_EU['maxx'] , newscale_nonEU['maxx']  , alternative= \"two-sided\") \n",
        "print(newscale_ethics_nationality)\n",
        "print(newscale_skills_nationality)\n",
        "print(newscale_maxx_nationality)"
      ],
      "metadata": {
        "id": "JfLLYmPpHU8N"
      },
      "execution_count": null,
      "outputs": []
    },
    {
      "cell_type": "code",
      "source": [
        "#Test for equivalence for nationality only\n",
        "\n",
        "#ethics\n",
        "from scipy.stats import mannwhitneyu\n",
        "delta = 0.8\n",
        "p_low_newscale_ethics= mannwhitneyu([x - delta for x in newscale_EU['ethical']], newscale_nonEU['ethical'], alternative = \"less\")\n",
        "p_up_newscale_ethics= mannwhitneyu(newscale_nonEU['ethical'], [x + delta for x in scale_female['ethical']],  alternative = \"less\")\n",
        "p_TOST_newscale_ethics = max(p_low_newscale_ethics.pvalue, p_up_newscale_ethics.pvalue)\n",
        "\n",
        "print(p_low_newscale_ethics)\n",
        "print(p_up_newscale_ethics)\n",
        "print(p_TOST_newscale_ethics)\n",
        "\n",
        "#skills\n",
        "\n",
        "p_low_newscale_skills= mannwhitneyu([x - delta for x in newscale_EU['skills']], newscale_nonEU['skills'], alternative = \"less\")\n",
        "p_up_newscale_skills= mannwhitneyu(newscale_nonEU['skills'], [x + delta for x in scale_female['skills']],  alternative = \"less\")\n",
        "p_TOST_newscale_skills = max(p_low_newscale_skills.pvalue, p_up_newscale_skills.pvalue)\n",
        "\n",
        "print(p_low_newscale_skills)\n",
        "print(p_up_newscale_skills)\n",
        "print(p_TOST_newscale_skills)\n",
        "\n",
        "#maxx\n",
        "\n",
        "p_low_newscale_maxx= mannwhitneyu([x - delta for x in newscale_EU['maxx']], newscale_nonEU['maxx'], alternative = \"less\")\n",
        "p_up_newscale_maxx= mannwhitneyu(newscale_nonEU['maxx'], [x + delta for x in scale_female['maxx']],  alternative = \"less\")\n",
        "p_TOST_newscale_maxx = max(p_low_newscale_maxx.pvalue, p_up_newscale_maxx.pvalue)\n",
        "\n",
        "print(p_low_newscale_maxx)\n",
        "print(p_up_newscale_maxx)\n",
        "print(p_TOST_newscale_maxx)"
      ],
      "metadata": {
        "id": "z8e_YGsMWW6Q"
      },
      "execution_count": null,
      "outputs": []
    }
  ],
  "metadata": {
    "colab": {
      "collapsed_sections": [
        "g3CpIMLPDmfj",
        "rlC1eHcGDaW3",
        "-uCBvOM4D0Zw",
        "l5VCYG65wg6t",
        "6FBDEOU-tR_H",
        "NlHz13CIznNW",
        "c1ulOreJzvMa",
        "QovpflugzzUv",
        "1-YquV2-z17Q",
        "Sru-ow6PuxH9",
        "wkoR93H8hfuC",
        "M0of_GVpGuoB",
        "YqoHd4XKhmv0",
        "vM3_pOKjmqzt",
        "Gu_zVDs3eBhs",
        "BTyT9SDMlZ8r"
      ],
      "provenance": []
    },
    "kernelspec": {
      "display_name": "Python 3",
      "name": "python3"
    },
    "language_info": {
      "name": "python"
    }
  },
  "nbformat": 4,
  "nbformat_minor": 0
}